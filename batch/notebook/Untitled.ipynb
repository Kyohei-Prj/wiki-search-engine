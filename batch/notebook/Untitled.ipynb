{
 "cells": [
  {
   "cell_type": "code",
   "execution_count": null,
   "id": "9688f9fb",
   "metadata": {
    "collapsed": false
   },
   "outputs": [],
   "source": [
    "from collections import OrderedDict\n",
    "import pandas as pd\n",
    "from sentence_transformers import SentenceTransformer\n",
    "from elasticsearch import Elasticsearch"
   ]
  },
  {
   "cell_type": "code",
   "execution_count": null,
   "id": "ae6b67db",
   "metadata": {
    "collapsed": false
   },
   "outputs": [],
   "source": [
    "model = SentenceTransformer('cl-tohoku/bert-base-japanese-whole-word-masking')"
   ]
  },
  {
   "cell_type": "code",
   "execution_count": null,
   "id": "8228a256",
   "metadata": {
    "collapsed": false
   },
   "outputs": [],
   "source": [
    "es = Elasticsearch('https://localhost:9200',\n",
    "                   basic_auth=('elastic', 'elastic'),\n",
    "                   verify_certs=False,\n",
    "                   timeout=60,\n",
    "                   max_retries=5)\n",
    "index = 'wiki_index'"
   ]
  },
  {
   "cell_type": "code",
   "execution_count": null,
   "id": "88e56864",
   "metadata": {
    "collapsed": false
   },
   "outputs": [],
   "source": [
    "def vector_search(query):\n",
    "\n",
    "    query_vector = list(model.encode(query, normalize_embeddings=True))\n",
    "    response = es.search(\n",
    "        index=index,\n",
    "        size=10,\n",
    "        source_includes=['title'],\n",
    "        knn={\n",
    "            'field': 'vector',\n",
    "            'query_vector': query_vector,\n",
    "            'k': 100,\n",
    "            'num_candidates': 1000\n",
    "        }\n",
    "    )\n",
    "\n",
    "    return response\n",
    "\n",
    "\n",
    "def keyword_search(query):\n",
    "\n",
    "    response = es.search(\n",
    "        index=index,\n",
    "        size=10,\n",
    "        query={\n",
    "            'match': {'abstract': query}\n",
    "        }\n",
    "    )\n",
    "\n",
    "    return response\n",
    "\n",
    "\n",
    "def hybrid_search(query):\n",
    "\n",
    "    query_vector = list(model.encode(query, normalize_embeddings=True))\n",
    "    response = es.search(\n",
    "        index=index,\n",
    "        size=10,\n",
    "        source_includes=['title'],\n",
    "        query={'match': {'abstract': query}},\n",
    "        knn={\n",
    "            'field': 'vector',\n",
    "            'query_vector': query_vector,\n",
    "            'k': 3,\n",
    "            'num_candidates': 10\n",
    "        }\n",
    "    )\n",
    "\n",
    "    return response\n",
    "\n",
    "\n",
    "def format_response(response):\n",
    "\n",
    "    return pd.DataFrame([\n",
    "        OrderedDict({'title': row['_source']['title'],\n",
    "                     'score': row['_score']\n",
    "                     }) for _, row in pd.DataFrame(response['hits']['hits']).iterrows()])"
   ]
  },
  {
   "cell_type": "code",
   "execution_count": null,
   "id": "13ba8192",
   "metadata": {
    "collapsed": false
   },
   "outputs": [],
   "source": [
    "query = 'コンピュータ'\n",
    "response = keyword_search(query)\n",
    "print(format_response(response))"
   ]
  },
  {
   "cell_type": "code",
   "execution_count": null,
   "id": "3e9465c2",
   "metadata": {
    "collapsed": false
   },
   "outputs": [],
   "source": [
    "query = 'コンピュータ'\n",
    "response = vector_search(query)\n",
    "print(format_response(response))"
   ]
  },
  {
   "cell_type": "code",
   "execution_count": null,
   "id": "cdc96bd6",
   "metadata": {
    "collapsed": false
   },
   "outputs": [],
   "source": [
    "query = 'コンピュータ'\n",
    "response = hybrid_search(query)\n",
    "print(format_response(response))"
   ]
  },
  {
   "cell_type": "code",
   "execution_count": null,
   "id": "f0fc929a",
   "metadata": {
    "collapsed": true
   },
   "outputs": [],
   "source": [
    "es.cat.shards()"
   ]
  },
  {
   "cell_type": "code",
   "execution_count": null,
   "id": "cb673a84",
   "metadata": {
    "collapsed": false
   },
   "outputs": [],
   "source": [
    "es.cat.health()"
   ]
  },
  {
   "cell_type": "code",
   "execution_count": null,
   "id": "774bb2cd",
   "metadata": {
    "collapsed": false
   },
   "outputs": [],
   "source": [
    "es.close()"
   ]
  }
 ],
 "metadata": {
  "kernelspec": {
   "argv": [
    "python",
    "-m",
    "ipykernel_launcher",
    "-f",
    "{connection_file}"
   ],
   "display_name": "Python 3 (ipykernel)",
   "env": null,
   "interrupt_mode": "signal",
   "language": "python",
   "metadata": {
    "debugger": true
   },
   "name": "python3"
  },
  "name": "Untitled.ipynb"
 },
 "nbformat": 4,
 "nbformat_minor": 5
}
